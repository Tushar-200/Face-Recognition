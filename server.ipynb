{
 "cells": [
  {
   "cell_type": "code",
   "execution_count": 1,
   "id": "3627efca-b557-48bd-95ab-f519a6741691",
   "metadata": {},
   "outputs": [],
   "source": [
    "import numpy as np\n",
    "import pywt\n",
    "import cv2\n",
    "\n",
    "def w2d(img, mode='haar', level=1):\n",
    "    imArray = img\n",
    "\n",
    "    # Data type conversion\n",
    "    # Convert to grayscale\n",
    "    imArray = cv2.cvtColor(imArray, cv2.COLOR_BGR2GRAY)\n",
    "    # Convert to float\n",
    "    imArray = np.float32(imArray)\n",
    "    imArray /= 255\n",
    "\n",
    "    # Compute coefficients\n",
    "    coeffs = pywt.wavedec2(imArray, mode, level=level)\n",
    "\n",
    "    # Process coefficients\n",
    "    coeffs_H = list(coeffs)\n",
    "    coeffs_H[0] = np.zeros_like(coeffs_H[0])  # Set approximation coefficients to zeros\n",
    "\n",
    "    # Reconstruction\n",
    "    imArray_H = pywt.waverec2(coeffs_H, mode)\n",
    "    imArray_H *= 255\n",
    "    imArray_H = np.uint8(imArray_H)\n",
    "\n",
    "    return imArray_H\n",
    "\n",
    "# Example usage:\n",
    "# img = cv2.imread('your_image_path.jpg')\n",
    "# result = w2d(img, mode='haar', level=1)\n",
    "# cv2.imshow('Original', img)\n",
    "# cv2.imshow('Wavelet Transformed', result)\n",
    "# cv2.waitKey(0)\n",
    "# cv2.destroyAllWindows()\n"
   ]
  },
  {
   "cell_type": "code",
   "execution_count": 2,
   "id": "e2cd65ad-f7b6-409c-9a46-9b3d477f28be",
   "metadata": {},
   "outputs": [],
   "source": [
    "import joblib\n",
    "import json\n",
    "import numpy as np\n",
    "import base64\n",
    "import cv2\n",
    "from wavelet import w2d\n",
    "\n",
    "__class_name_to_number = {}\n",
    "__class_number_to_name = {}\n",
    "\n",
    "__model = None"
   ]
  },
  {
   "cell_type": "code",
   "execution_count": 3,
   "id": "7b977f2c-52ca-48da-b2ea-cfa95f4a2ed4",
   "metadata": {},
   "outputs": [],
   "source": [
    "def class_number_to_name(class_num):\n",
    "    return __class_number_to_name[class_num]\n"
   ]
  },
  {
   "cell_type": "code",
   "execution_count": 4,
   "id": "eee8d503-18f4-4211-9eeb-6030fee364c8",
   "metadata": {},
   "outputs": [],
   "source": [
    "\n",
    "def load_saved_artifacts():\n",
    "    print(\"loading saved artifacts...start\")\n",
    "    global __class_name_to_number\n",
    "    global __class_number_to_name\n",
    "\n",
    "    with open(\"./artifacts/class_dictionary.json\", \"r\") as f:\n",
    "        __class_name_to_number = json.load(f)\n",
    "        __class_number_to_name = {v:k for k,v in __class_name_to_number.items()}\n",
    "\n",
    "    global __model\n",
    "    if __model is None:\n",
    "        with open('./artifacts/saved_model.pkl', 'rb') as f:\n",
    "            __model = joblib.load(f)\n",
    "    print(\"loading saved artifacts...done\")\n"
   ]
  },
  {
   "cell_type": "code",
   "execution_count": 5,
   "id": "f970bc84-1146-4539-8340-98163628271d",
   "metadata": {},
   "outputs": [],
   "source": [
    "\n",
    "def get_cv2_image_from_base64_string(b64str):\n",
    "    \n",
    "    encoded_data = b64str.split(',')[1]\n",
    "    nparr = np.frombuffer(base64.b64decode(encoded_data), np.uint8)\n",
    "    img = cv2.imdecode(nparr, cv2.IMREAD_COLOR)\n",
    "    return img\n"
   ]
  },
  {
   "cell_type": "code",
   "execution_count": 6,
   "id": "8c6ee9ea-7170-49f1-beaa-6a1f480a941f",
   "metadata": {},
   "outputs": [],
   "source": [
    "def get_cropped_image_if_2eyes(image_path, image_base64_data):\n",
    "    face_cascade = cv2.CascadeClassifier(cv2.data.haarcascades + 'haarcascade_frontalface_default.xml')\n",
    "    eye_cascade = cv2.CascadeClassifier(cv2.data.haarcascades + 'haarcascade_eye.xml')\n",
    "\n",
    "    if image_path:\n",
    "        img = cv2.imread(image_path)\n",
    "    else:\n",
    "        img = get_cv2_image_from_base64_string(image_base64_data)\n",
    "\n",
    "    gray = cv2.cvtColor(img, cv2.COLOR_BGR2GRAY)\n",
    "    faces = face_cascade.detectMultiScale(gray, 1.3, 5)\n",
    "\n",
    "    cropped_faces = []\n",
    "    for (x,y,w,h) in faces:\n",
    "            roi_gray = gray[y:y+h, x:x+w]\n",
    "            roi_color = img[y:y+h, x:x+w]\n",
    "            eyes = eye_cascade.detectMultiScale(roi_gray)\n",
    "            if len(eyes) >= 2:\n",
    "                cropped_faces.append(roi_color)\n",
    "    return cropped_faces"
   ]
  },
  {
   "cell_type": "code",
   "execution_count": 7,
   "id": "912588f0-1d76-478e-a7f2-ac391bb88392",
   "metadata": {},
   "outputs": [],
   "source": [
    "\n",
    "def classify_image(image_base64_data, file_path=None):\n",
    "\n",
    "    imgs = get_cropped_image_if_2eyes(file_path, image_base64_data)\n",
    "\n",
    "    result = []\n",
    "    for img in imgs:\n",
    "        scalled_raw_img = cv2.resize(img, (32, 32))\n",
    "        img_har = w2d(img, 'db1', 5)\n",
    "        scalled_img_har = cv2.resize(img_har, (32, 32))\n",
    "        combined_img = np.vstack((scalled_raw_img.reshape(32 * 32 * 3, 1), scalled_img_har.reshape(32 * 32, 1)))\n",
    "\n",
    "        len_image_array = 32*32*3 + 32*32\n",
    "\n",
    "        final = combined_img.reshape(1,len_image_array).astype(float)\n",
    "        result.append({\n",
    "            'class': class_number_to_name(__model.predict(final)[0]),\n",
    "            'class_probability': np.around(__model.predict_proba(final)*100,2).tolist()[0],\n",
    "            'class_dictionary': __class_name_to_number\n",
    "        })\n",
    "\n",
    "    return result\n",
    "\n",
    "\n",
    "\n",
    "\n",
    "\n"
   ]
  },
  {
   "cell_type": "code",
   "execution_count": 8,
   "id": "8b1ac6bd-7115-4b6f-9363-94753811e2f6",
   "metadata": {},
   "outputs": [],
   "source": [
    "\n",
    "def get_b64_test_image_for_dhoni():\n",
    "    with open(\"base64img.txt\") as f:\n",
    "        return f.read()\n"
   ]
  },
  {
   "cell_type": "code",
   "execution_count": 9,
   "id": "020bbe4c-ce19-406b-a491-3dd3dbb5b62f",
   "metadata": {},
   "outputs": [
    {
     "name": "stdout",
     "output_type": "stream",
     "text": [
      "loading saved artifacts...start\n",
      "loading saved artifacts...done\n",
      "[{'class': 'dhoni', 'class_probability': [56.03, 7.1, 16.18, 18.61, 2.08], 'class_dictionary': {'dhoni': 0, 'lionel messi': 1, 'maria sharapova': 2, 'ronaldo': 3, 'virat kohli': 4}}]\n"
     ]
    }
   ],
   "source": [
    "\n",
    "if __name__ == '__main__':\n",
    "    load_saved_artifacts()\n",
    "\n",
    "    #print(classify_image(get_b64_test_image_for_dhoni(), None))\n",
    "    #print(classify_image(None,'test-images/ronaldo24.png'))\n",
    "    print(classify_image(None,'test-images/dhoni20.png'))\n",
    "    #print(classify_image(None,'test-images/virat kohli12.png'))\n",
    "    #print(classify_image(None,'test-images/dhoni20.png'))\n"
   ]
  },
  {
   "cell_type": "code",
   "execution_count": null,
   "id": "1e232a79-3422-445b-9215-d8bb15986c7e",
   "metadata": {},
   "outputs": [],
   "source": [
    "\n",
    "    "
   ]
  },
  {
   "cell_type": "code",
   "execution_count": null,
   "id": "449ca3a1-b152-42ea-a704-86f37098b740",
   "metadata": {},
   "outputs": [],
   "source": []
  }
 ],
 "metadata": {
  "kernelspec": {
   "display_name": "Python 3 (ipykernel)",
   "language": "python",
   "name": "python3"
  },
  "language_info": {
   "codemirror_mode": {
    "name": "ipython",
    "version": 3
   },
   "file_extension": ".py",
   "mimetype": "text/x-python",
   "name": "python",
   "nbconvert_exporter": "python",
   "pygments_lexer": "ipython3",
   "version": "3.12.0"
  }
 },
 "nbformat": 4,
 "nbformat_minor": 5
}
